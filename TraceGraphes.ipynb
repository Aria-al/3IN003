{
 "cells": [
  {
   "cell_type": "code",
   "execution_count": 1,
   "metadata": {},
   "outputs": [],
   "source": [
    "import matplotlib.pyplot as plt \n",
    "import csv "
   ]
  },
  {
   "cell_type": "code",
   "execution_count": null,
   "metadata": {},
   "outputs": [],
   "source": [
    "fileNames = [\"TempsAlgo1FonctionK.csv\", \"TempsAlgo1FonctionS.csv\", \"TempsAlgo2FonctionK.csv\", \"TempsAlgo2FonctionS.csv\", \"TempsAlgo3FonctionS.csv\", \"TempsAlgo3FonctionK.csv\"]"
   ]
  },
  {
   "cell_type": "code",
   "execution_count": null,
   "metadata": {},
   "outputs": [],
   "source": [
    "f = \n",
    "i = f[9]\n",
    "c = str(f[-5])\n",
    "filePath =  f\n",
    "Names = [] \n",
    "Values = [] \n",
    "\n",
    "with open(filePath,'r') as csvfile: \n",
    "\tlines = csv.reader(csvfile, delimiter=',') \n",
    "\tfor row in lines: \n",
    "\t\tNames.append(int(row[0])) \n",
    "\t\tValues.append(float(row[1])) \n",
    "\n",
    "plt.scatter(Names, Values, color = 'g',s = 100) \n",
    "plt.xticks(rotation = 25) \n",
    "plt.ylabel('Temps(s)') \n",
    "plt.xlabel(c) \n",
    "if (c[0] != 'K') : \n",
    "\tX = []\t\t\t\n",
    "\tk = 20 \n",
    "\tcoef = 0 \n",
    "\tfor i in range(k) : \n",
    "\t\tX.append(Names[int(coef)])\n",
    "\t\tcoef += int (len(Names) / k)\n",
    "\tplt.xticks(X)\n",
    "plt.title(\"Algo\"+str(i)+\"\") \n",
    "plt.savefig(f[:-4]+\".png\")"
   ]
  }
 ],
 "metadata": {
  "kernelspec": {
   "display_name": "Python 3",
   "language": "python",
   "name": "python3"
  },
  "language_info": {
   "codemirror_mode": {
    "name": "ipython",
    "version": 3
   },
   "file_extension": ".py",
   "mimetype": "text/x-python",
   "name": "python",
   "nbconvert_exporter": "python",
   "pygments_lexer": "ipython3",
   "version": "3.12.0"
  }
 },
 "nbformat": 4,
 "nbformat_minor": 2
}
